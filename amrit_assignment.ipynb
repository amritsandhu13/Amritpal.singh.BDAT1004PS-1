{
 "cells": [
  {
   "cell_type": "markdown",
   "id": "c35fdfc3-5e19-4116-939c-99c353b44145",
   "metadata": {
    "tags": []
   },
   "source": [
    "## Question 1\n",
    "#### What data type is each of the following (evaluate where necessary)?"
   ]
  },
  {
   "cell_type": "markdown",
   "id": "bc388a75-5edd-4c75-bd55-1ef3439998de",
   "metadata": {},
   "source": [
    "5 : INTEGER  TYPE\n",
    "5.0 : FLOAT   TYPE\n",
    "5 > 1 : BOOLEAN TYPE \n",
    "'5' : STRING  TYPE\n",
    "5 * 2 : INTEGER TYPE \n",
    "'5' * 2 : STRING  TYPE \n",
    "'5' + '2' : STRING  TYPE\n",
    "5 / 2 : FLOAT TYPE \n",
    "5% 2 : INTEGER  TYPE\n",
    "{5, 2, 1} : SET\n",
    "5== 3 : BOOLEAN  TYPE\n",
    "Pi(thenumber) : FLOATING  DATA TYPE"
   ]
  },
  {
   "cell_type": "markdown",
   "id": "6c16b9f0-6416-473e-89a5-3879af33a8fb",
   "metadata": {
    "tags": []
   },
   "source": [
    "## Question 2 \n",
    "#### Write (and evaluate) python expressions that answer these questions: \n",
    "#### a. How many letters are there in 'Supercalifragilisticexpialidocious'?\n"
   ]
  },
  {
   "cell_type": "code",
   "execution_count": 8,
   "id": "27c27915-d5d7-451b-b086-0cb1c219f751",
   "metadata": {
    "tags": []
   },
   "outputs": [
    {
     "name": "stdout",
     "output_type": "stream",
     "text": [
      "number of words:  34\n"
     ]
    }
   ],
   "source": [
    "word = 'Supercalifragilisticexpialidocious'\n",
    "print('number of words: ',len(word))"
   ]
  },
  {
   "cell_type": "markdown",
   "id": "8c039abc-a98c-4d99-bc96-a5a1cecc3952",
   "metadata": {
    "tags": []
   },
   "source": [
    "#### b. Does 'Supercalifragilisticexpialidocious' contain 'ice' as a substring? "
   ]
  },
  {
   "cell_type": "code",
   "execution_count": 10,
   "id": "e8cf143d-89ed-4eb4-92f3-30451b30cd21",
   "metadata": {
    "tags": []
   },
   "outputs": [
    {
     "name": "stdout",
     "output_type": "stream",
     "text": [
      "Word  Supercalifragilisticexpialidocious  contains word  ice\n"
     ]
    }
   ],
   "source": [
    "word =  'Supercalifragilisticexpialidocious'\n",
    "sub_string = 'ice'\n",
    "if (sub_string in word):\n",
    "    print('Word ',word,' contains word ',sub_string)\n",
    "else:\n",
    "    print('Word ',word,' does not contain word',sub_string)"
   ]
  },
  {
   "cell_type": "markdown",
   "id": "82de64d9-6b41-47d9-ac1b-c41d9bbfc0d4",
   "metadata": {
    "tags": []
   },
   "source": [
    "#### c. Which of the following words is the longest:\n",
    "Supercalifragilisticexpialidocious, Honorificabilitudinitatibus, or\n",
    "Bababadalgharaghtakamminarronnkonn?"
   ]
  },
  {
   "cell_type": "code",
   "execution_count": 12,
   "id": "b564b718-9e17-4d1c-a215-4321398512ee",
   "metadata": {
    "tags": []
   },
   "outputs": [
    {
     "name": "stdin",
     "output_type": "stream",
     "text": [
      "Enter the numbers separated by comma  1,2,3,4,5,6\n"
     ]
    },
    {
     "name": "stdout",
     "output_type": "stream",
     "text": [
      "Even numbers from input numbers are: [2, 4, 6]\n",
      "Odd numbers from input numbers are: [1, 3, 5]\n"
     ]
    }
   ],
   "source": [
    "\n",
    "even_numbers = []\n",
    "odd_numbers = []\n",
    "\n",
    "list_of_numbers =  input(\"Enter the numbers separated by comma \").split(',')\n",
    "\n",
    "# Input the list of integers\n",
    "numbers = [int(x) for x in list_of_numbers]\n",
    "\n",
    "# Separate even and odd numbers\n",
    "for num in numbers:\n",
    "    if num % 2 == 0:\n",
    "        even_numbers.append(num)\n",
    "    else:\n",
    "        odd_numbers.append(num)\n",
    "\n",
    "print(\"Even numbers from input numbers are:\", even_numbers)\n",
    "print(\"Odd numbers from input numbers are:\", odd_numbers)"
   ]
  },
  {
   "cell_type": "markdown",
   "id": "dbcb270d-9aa6-4a0e-9099-e5beae85fdb6",
   "metadata": {},
   "source": [
    "#### d. Which composer comes first in the dictionary: 'Berlioz', 'Borodin', 'Brian',\n",
    "'Bartok', 'Bellini', 'Buxtehude', 'Bernstein'. Which one comes last?\n"
   ]
  },
  {
   "cell_type": "code",
   "execution_count": 13,
   "id": "7218b190-c146-47b9-8e24-4ef35f23f758",
   "metadata": {
    "tags": []
   },
   "outputs": [
    {
     "name": "stdout",
     "output_type": "stream",
     "text": [
      "First composer from list Bartok\n",
      "Last composer from list Buxtehude\n"
     ]
    }
   ],
   "source": [
    "list_of_composers = ['Berlioz', 'Borodin', 'Brian', 'Bartok', 'Bellini', 'Buxtehude', 'Bernstein']\n",
    "\n",
    "first_composer = min(list_of_composers)\n",
    "last_composer = max(list_of_composers)\n",
    "\n",
    "print(\"First composer from list\", first_composer)\n",
    "print(\"Last composer from list\", last_composer)"
   ]
  },
  {
   "cell_type": "markdown",
   "id": "7084a04e-d39b-414d-ae91-243dd2122e36",
   "metadata": {},
   "source": [
    "#### 3 Implement function triangleArea(a,b,c) that takes as input the lengths of the 3 sides of a triangle and returns the area of the triangle. By Heron's formula, the area of a triangle with side lengths a, b, and c is s(s - a)(s -b)(s -c) , where s = (a+b+c)/2.\n",
    "\n"
   ]
  },
  {
   "cell_type": "code",
   "execution_count": 16,
   "id": "3b4ca2f1-90bc-42e8-ae9b-ea1a3aea3512",
   "metadata": {
    "tags": []
   },
   "outputs": [],
   "source": [
    "def triangleArea(a,b,c):\n",
    "    #semiperimeter\n",
    "    s = (a+b+c)/2\n",
    "    area = math.sqrt(s*(s-a)*(s-b)*(s-c))\n",
    "    return area\n"
   ]
  },
  {
   "cell_type": "code",
   "execution_count": 18,
   "id": "75dc7a33-b3a1-425c-a1a7-eef8a48a9215",
   "metadata": {
    "tags": []
   },
   "outputs": [
    {
     "name": "stdout",
     "output_type": "stream",
     "text": [
      "area of the triangle is  1.7320508075688772\n"
     ]
    }
   ],
   "source": [
    "import math\n",
    "print(\"area of the triangle is \",triangleArea(2,2,2))"
   ]
  },
  {
   "cell_type": "markdown",
   "id": "d2a0bba4-9a86-465e-855e-d0e9ec69e0ff",
   "metadata": {},
   "source": [
    "#### 4 Write a program in python to separate odd and even integers in separate arrays. Go to the editor Test Data :Input the number of elements to be stored in the array :5 Input 5 elements in the array :element - 0 : 25 element - 1 : element - 2 : 42 element - 3 : 56 element - 4 : 32 Expected Output: The Even elements are 42 56 32 The Odd elements are : 25 47"
   ]
  },
  {
   "cell_type": "code",
   "execution_count": 19,
   "id": "462ce80c-496f-4de3-8841-f772fccb4041",
   "metadata": {
    "tags": []
   },
   "outputs": [
    {
     "name": "stdin",
     "output_type": "stream",
     "text": [
      "Enter the numbers separated by comma  1,2,3,4,5,6\n"
     ]
    },
    {
     "name": "stdout",
     "output_type": "stream",
     "text": [
      "Even numbers from input numbers are: [2, 4, 6]\n",
      "Odd numbers from input numbers are: [1, 3, 5]\n"
     ]
    }
   ],
   "source": [
    "even_numbers = []\n",
    "odd_numbers = []\n",
    "\n",
    "list_of_numbers =  input(\"Enter the numbers separated by comma \").split(',')\n",
    "\n",
    "# Input the list of integers\n",
    "numbers = [int(x) for x in list_of_numbers]\n",
    "\n",
    "# Separate even and odd numbers\n",
    "for num in numbers:\n",
    "    if num % 2 == 0:\n",
    "        even_numbers.append(num)\n",
    "    else:\n",
    "        odd_numbers.append(num)\n",
    "\n",
    "print(\"Even numbers from input numbers are:\", even_numbers)\n",
    "print(\"Odd numbers from input numbers are:\", odd_numbers)"
   ]
  },
  {
   "cell_type": "markdown",
   "id": "04ff17e6-29fa-4f7f-9e5d-4eab897a7660",
   "metadata": {},
   "source": [
    "#### 5 a. Write a function inside(x,y,x1,y1,x2,y2) that returns True or False depending on whether the point (x,y) lies in the rectangle with lower left corner (x1,y1) and upper right corner (x2,y2).>>> inside(1,1,0,0,2,3) True >>> inside(-1,-1,0,0,2,3) False\n"
   ]
  },
  {
   "cell_type": "code",
   "execution_count": 20,
   "id": "f655f612-2e46-42e8-9790-4e94c31256e7",
   "metadata": {
    "tags": []
   },
   "outputs": [],
   "source": [
    "def inside(x, y, x1, y1, x2, y2):\n",
    "    # Checking if point (x, y) lies the rectangle with corners (x1, y1) and (x2, y2)\n",
    "    is_inside = (x1 <= x <= x2 and y1 <= y <= y2)\n",
    "    return is_inside\n"
   ]
  },
  {
   "cell_type": "code",
   "execution_count": 21,
   "id": "18af361a-d42c-4001-b21d-f555239cf2ec",
   "metadata": {
    "tags": []
   },
   "outputs": [
    {
     "data": {
      "text/plain": [
       "True"
      ]
     },
     "execution_count": 21,
     "metadata": {},
     "output_type": "execute_result"
    }
   ],
   "source": [
    "inside(1,1,0,0,2,3)"
   ]
  },
  {
   "cell_type": "code",
   "execution_count": 22,
   "id": "651dd5c0-7c57-4575-9946-445f7e7c897a",
   "metadata": {
    "tags": []
   },
   "outputs": [
    {
     "data": {
      "text/plain": [
       "False"
      ]
     },
     "execution_count": 22,
     "metadata": {},
     "output_type": "execute_result"
    }
   ],
   "source": [
    "inside(-1,-1,0,0,2,3)"
   ]
  },
  {
   "cell_type": "markdown",
   "id": "2cae6868-ed20-4b54-9f2a-01bfd5564ff3",
   "metadata": {},
   "source": [
    "#### b. Use function inside() from part a. to write an expression that tests whether the point (1,1) lies in both of the following rectangles: one with lower left corner (0.3, 0.5) and upper right corner (1.1, 0.7) and the other with lower left corner (0.5, 0.2) and upper right corner (1.1, 2). "
   ]
  },
  {
   "cell_type": "code",
   "execution_count": 23,
   "id": "9d9f0dac-8d77-4865-8bf3-9295921818c9",
   "metadata": {
    "tags": []
   },
   "outputs": [],
   "source": [
    "expression = lambda x,y: inside(x,y,0.3, 0.5,1.1, 0.7) and  inside(x,y,0.5, 0.2,1.1, 2)"
   ]
  },
  {
   "cell_type": "code",
   "execution_count": 24,
   "id": "116660ff-bbef-428d-b2bf-1b0bda7fa454",
   "metadata": {
    "tags": []
   },
   "outputs": [
    {
     "name": "stdout",
     "output_type": "stream",
     "text": [
      "False\n"
     ]
    }
   ],
   "source": [
    "print(expression(1,1))"
   ]
  },
  {
   "cell_type": "markdown",
   "id": "fda4a093-3c4d-4eee-b8de-cd787431e99c",
   "metadata": {},
   "source": [
    " #### 6 You can turn a word into pig-Latin using the following two rules (simplified): • If the word starts with a consonant, move that letter to the end and append 'ay'. For example, 'happy' becomes 'appyhay' and 'pencil' becomes 'encilpay'. • If the word starts with a vowel, simply append 'way' to the end of the word. For example, 'enter' becomes 'enterway' and 'other' becomes 'otherway' . For our purposes, there are 5 vowels: a, e, i, o, u (so we count y as a consonant). Write a function pig() that takes a word (i.e., a string) as input and returns its pigLatin form. Your function should still work if the input word contains upper case characters. Your output should always be lower case however. >>> pig('happy')'appyhay'>>> pig('Enter')'enterway'"
   ]
  },
  {
   "cell_type": "code",
   "execution_count": 25,
   "id": "ff4d11cd-e628-4b80-9fcf-c75710b4d9d4",
   "metadata": {
    "tags": []
   },
   "outputs": [],
   "source": [
    "def pig(word):\n",
    "    word = word.lower()\n",
    "    vowels = ['a', 'e', 'i', 'o', 'u']\n",
    "#check whether first character is vwel\n",
    "    if word[0] in vowels:\n",
    "        return word + 'way'\n",
    "    else:\n",
    "        #if it is not vowel then \n",
    "        return word[1:] + word[0] + 'ay'"
   ]
  },
  {
   "cell_type": "code",
   "execution_count": 32,
   "id": "62f9fc68-09bb-4baf-b49b-32fd6e85b27e",
   "metadata": {
    "tags": []
   },
   "outputs": [
    {
     "data": {
      "text/plain": [
       "'appleway'"
      ]
     },
     "execution_count": 32,
     "metadata": {},
     "output_type": "execute_result"
    }
   ],
   "source": [
    "pig('Apple') "
   ]
  },
  {
   "cell_type": "code",
   "execution_count": 31,
   "id": "d855bad9-81a8-4d40-8306-45127687088f",
   "metadata": {
    "tags": []
   },
   "outputs": [
    {
     "data": {
      "text/plain": [
       "'arriebay'"
      ]
     },
     "execution_count": 31,
     "metadata": {},
     "output_type": "execute_result"
    }
   ],
   "source": [
    "pig('Barrie') "
   ]
  },
  {
   "cell_type": "markdown",
   "id": "667dfc50-9281-49ff-9ffd-1cce41cb93cf",
   "metadata": {},
   "source": [
    "#### 7 File bloodtype1.txt records blood-types of patients (A, B, AB, O or OO) at a clinic. Write a function bldcount() that reads the file with name name and reports (i.e., prints) how many patients there are in each bloodtype. >>> bldcount('bloodtype.txt') There are 10 patients of blood type A.There is one patient of blood type B. There are 10 patients of blood type AB. There are 12 patients of blood type O. There are no patients of blood type OO."
   ]
  },
  {
   "cell_type": "code",
   "execution_count": 59,
   "id": "e4a35409-f0de-46d8-b4b0-812cff7696d2",
   "metadata": {
    "tags": []
   },
   "outputs": [],
   "source": [
    "def bldcount(file_path):\n",
    "    # defining \n",
    "    blood_type_counts = {'A':0,'B':0,'O':0,'AB':0,'ABO':0}\n",
    "\n",
    "    # read the file from the path\n",
    "    with open(file_path, 'r') as file:\n",
    "        # iterate through the lines in the file\n",
    "        for line in file:\n",
    "            # get the blood groups from line into the list\n",
    "            blood_types = line.split()\n",
    "            \n",
    "            \n",
    "            for blood_type in blood_types:\n",
    "                #\n",
    "                if blood_type in blood_type_counts:\n",
    "                    # add the count for that blood group\n",
    "                    blood_type_counts[blood_type] += 1\n",
    "                else:\n",
    "                    # add the count for that blood group\n",
    "                    blood_type_counts[blood_type] = 1\n",
    "\n",
    "    # Iterate through the blood type counts and print the results\n",
    "    for blood_type, count in blood_type_counts.items():\n",
    "        print(f\"There are {count} patients of blood type {blood_type}.\")\n"
   ]
  },
  {
   "cell_type": "code",
   "execution_count": 60,
   "id": "29e8a109-4f76-4719-896e-332aa99d61e9",
   "metadata": {
    "tags": []
   },
   "outputs": [
    {
     "name": "stdout",
     "output_type": "stream",
     "text": [
      "There are 15 patients of blood type A.\n",
      "There are 1 patients of blood type B.\n",
      "There are 15 patients of blood type O.\n",
      "There are 13 patients of blood type AB.\n",
      "There are 0 patients of blood type ABO.\n"
     ]
    }
   ],
   "source": [
    "blood_group_file_path = r'C:\\Users\\Hewlett-Packard\\Downloads\\bloodtype1.txt'\n",
    "bldcount(blood_group_file_path)\n",
    "\n",
    "    "
   ]
  },
  {
   "cell_type": "markdown",
   "id": "c843c858-1f1c-49f7-b12b-4943fe7a808f",
   "metadata": {
    "tags": []
   },
   "source": [
    "#### 8 Write a function curconv() that takes as input: 1. a currency represented using a string (e.g., 'JPY' for the Japanese Yen or'EUR' for the Euro) 2. an amount and then converts and returns the amount in US dollars. >>> curconv('EUR', 100) 122.96544 >>> curconv('JPY', 100) 1.241401 The currency rates you will need are stored in file currencies.txt: AUD 1.0345157 Australian Dollar CHF 1.0237414 Swiss Franc CNY 0.1550176 Chinese Yuan DKK 0.1651442 Danish Krone EUR 1.2296544 EuroGBP 1.5550989 British Pound HKD 0.1270207 Hong Kong Dollar INR 0.0177643 Indian Rupee JPY 0.01241401 Japanese Yen MXN 0.0751848 Mexican Peso MYR 0.3145411 Malaysian Ringgit NOK 0.1677063 Norwegian Krone NZD 0.8003591 New Zealand Dollar PHP 0.0233234 Philippine Peso SEK 0.148269 Swedish Krona SGD 0.788871 Singapore Dollar THB 0.0313789 Thai Baht"
   ]
  },
  {
   "cell_type": "code",
   "execution_count": 61,
   "id": "4a20ae0b-ef97-4fc9-a8ba-f741571be7a6",
   "metadata": {
    "tags": []
   },
   "outputs": [],
   "source": [
    "currency_exchange_rate_details =  r'C:\\Users\\Hewlett-Packard\\Downloads\\currencies.txt'\n",
    "dict_currency_details = {}\n",
    "char_separator = '\\t'\n",
    "with open(currency_exchange_rate_details, 'r') as file:\n",
    "    for currency in file:\n",
    "        cur_details = currency.split(char_separator)\n",
    "        key=cur_details[0]\n",
    "        values=cur_details[1:]\n",
    "        dict_currency_details[key]=values"
   ]
  },
  {
   "cell_type": "code",
   "execution_count": 62,
   "id": "e522d1e6-d259-47f7-aa1f-4b6b3a924dd8",
   "metadata": {
    "tags": []
   },
   "outputs": [],
   "source": [
    "def curconv(curr, amount):\n",
    "    if curr in dict_currency_details:\n",
    "        conversion_rate = float(dict_currency_details[curr][0])\n",
    "        converted_amount = conversion_rate * amount\n",
    "        return converted_amount\n",
    "    else:\n",
    "        return None"
   ]
  },
  {
   "cell_type": "code",
   "execution_count": 63,
   "id": "6bce8278-0083-41f4-abfa-ffba0aa674cd",
   "metadata": {
    "tags": []
   },
   "outputs": [
    {
     "name": "stdout",
     "output_type": "stream",
     "text": [
      "122.96544\n",
      "1.241401\n"
     ]
    }
   ],
   "source": [
    "print(curconv('EUR', 100))\n",
    "print(curconv('JPY', 100))"
   ]
  },
  {
   "cell_type": "markdown",
   "id": "40e8e329-253d-4479-8880-8a7146ca2a73",
   "metadata": {},
   "source": [
    "#### 9 Each of the following will cause an exception (an error). Identify what type of exception each will cause. Trying to add incompatible variables, as in adding 6 + ‘a’ Referring to the 12th item of a list that has only 10 items Using a value that is out of range for a function’s input, such as calling math.sqrt(-1.0) Using an undeclared variable, such as print(x) when x has not been defined Trying to open a file that does not exist, such as mistyping the file name or looking in the wrong directory. "
   ]
  },
  {
   "cell_type": "markdown",
   "id": "afc4bd09-1bc3-4bc5-82bd-c4be7c2abc11",
   "metadata": {
    "tags": []
   },
   "source": [
    "adding 6 + ‘a’ : TypeError\n",
    "\n",
    "Referring to the 12th item of a list that has only 10 : IndexError\n",
    "\n",
    "Using a value that is out of range for a function’s input : ValueError\n",
    "\n",
    "Using an undeclared variable : NameError\n",
    "\n",
    "Trying to open a file that does not exist : FileNotFoundError"
   ]
  },
  {
   "cell_type": "markdown",
   "id": "95b2a94f-e32b-4214-aa68-4a58a69ae33c",
   "metadata": {},
   "source": [
    "#### 10 Encryption is the process of hiding the meaning of a text by substituting letters in the message with other letters, according to some system. If the process is successful, no one but the intended recipient can understand the encrypted message. Cryptanalysis refers to attempts to undo the encryption, even if some details of the encryption are unknown (for example, if an encrypted message has been intercepted). The first step of cryptanalysis is often to build up a table of letter frequencies in the encrypted text. Assume that the string letters is already defined as 'abcdefghijklmnopqrstuvwxyz'. Write a function called frequencies() that takes a string as its only parameter, and returns a list of integers, showing the number of times each character appears in the text. Your function may ignore any characters that are not in letters. >>> frequencies('The quick red fox got bored and went home.')\n",
    "[1, 1, 1, 3, 5, 1, 1, 2, 1, 0, 1, 0, 1, 2, 4, 0, 1, 2, 0, 2,\n",
    "1, 0, 1, 1, 0, 0] >>> frequencies('apple')"
   ]
  },
  {
   "cell_type": "code",
   "execution_count": 51,
   "id": "d52cbe7c-456c-4457-917d-2c073a7409ba",
   "metadata": {
    "tags": []
   },
   "outputs": [],
   "source": [
    "def frequencies(input_string):\n",
    "    \n",
    "    #set of the alphabets\n",
    "    alphabets = 'abcdefghijklmnopqrstuvwxyz'\n",
    "    \n",
    "    # Creating the dictionary to store character frequencies\n",
    "    alphabet_frequency = {alphabet: 0 for alphabet in alphabets}\n",
    "    \n",
    "    # Convert the input string to lowercase for case-insensitive counting\n",
    "    input_string = input_string.lower()\n",
    "\n",
    "    # Count the characters in the input string\n",
    "    for alphabet in input_string:\n",
    "        if alphabet in alphabet_frequency:\n",
    "            alphabet_frequency[alphabet] += 1\n",
    "    frequency_list = [alphabet_frequency[alphabet] for alphabet in alphabets]\n",
    "    return frequency_list\n"
   ]
  },
  {
   "cell_type": "code",
   "execution_count": 52,
   "id": "9d95dec1-12a8-4926-853e-56a98ad839ea",
   "metadata": {
    "tags": []
   },
   "outputs": [
    {
     "name": "stdout",
     "output_type": "stream",
     "text": [
      "[1, 1, 1, 3, 5, 1, 1, 2, 1, 0, 1, 0, 1, 2, 4, 0, 1, 2, 0, 3, 1, 0, 1, 1, 0, 0]\n"
     ]
    }
   ],
   "source": [
    "\n",
    "text = 'The quick red fox got bored and went home.'\n",
    "result = frequencies(text)\n",
    "print(result)"
   ]
  },
  {
   "cell_type": "code",
   "execution_count": 53,
   "id": "72dea9c2-c9d6-4fa4-9ff1-07839824e8ab",
   "metadata": {
    "tags": []
   },
   "outputs": [
    {
     "data": {
      "text/plain": [
       "[1, 0, 0, 0, 1, 0, 0, 0, 0, 0, 0, 1, 0, 0, 0, 2, 0, 0, 0, 0, 0, 0, 0, 0, 0, 0]"
      ]
     },
     "execution_count": 53,
     "metadata": {},
     "output_type": "execute_result"
    }
   ],
   "source": [
    "frequencies('apple')"
   ]
  }
 ],
 "metadata": {
  "kernelspec": {
   "display_name": "Python 3 (ipykernel)",
   "language": "python",
   "name": "python3"
  },
  "language_info": {
   "codemirror_mode": {
    "name": "ipython",
    "version": 3
   },
   "file_extension": ".py",
   "mimetype": "text/x-python",
   "name": "python",
   "nbconvert_exporter": "python",
   "pygments_lexer": "ipython3",
   "version": "3.11.4"
  }
 },
 "nbformat": 4,
 "nbformat_minor": 5
}
